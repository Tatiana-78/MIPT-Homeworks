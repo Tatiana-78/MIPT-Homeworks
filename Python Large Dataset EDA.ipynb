{
 "cells": [
  {
   "cell_type": "markdown",
   "id": "e5c30e69",
   "metadata": {},
   "source": [
    "## Исследуем файл train"
   ]
  },
  {
   "cell_type": "markdown",
   "id": "b5041f6b",
   "metadata": {},
   "source": [
    "#### 1. Готовим данные"
   ]
  },
  {
   "cell_type": "code",
   "execution_count": 34,
   "id": "08f8d02e",
   "metadata": {},
   "outputs": [],
   "source": [
    "import pandas as pd\n",
    "import matplotlib.pyplot as plt\n",
    "import numpy as np"
   ]
  },
  {
   "cell_type": "code",
   "execution_count": 35,
   "id": "1850de82",
   "metadata": {},
   "outputs": [],
   "source": [
    "train = pd.read_csv('train.csv',\n",
    "                   usecols=[1, 2, 3, 4, 5, 6, 7, 8, 9],\n",
    "                   dtype={\n",
    "                          'timestamp': 'int32',\n",
    "                          'user_id': 'int32',\n",
    "                          'content_id': 'int16',\n",
    "                          'content_type_id': 'int8',\n",
    "                          'task_container_id': 'int16',\n",
    "                          'user_answer': 'int8',\n",
    "                          'answered_correctly':'int8',\n",
    "                          'prior_question_elapsed_time': 'float32',\n",
    "                          'prior_question_had_explanation': 'boolean'\n",
    "                          },\n",
    "                   )\n",
    "# считали файл в Dateframe, сократили объем за счет изменения типов данных и удаления столбца 1, совпадающего с индексом"
   ]
  },
  {
   "cell_type": "code",
   "execution_count": 5,
   "id": "12397eed",
   "metadata": {},
   "outputs": [
    {
     "data": {
      "text/html": [
       "<div>\n",
       "<style scoped>\n",
       "    .dataframe tbody tr th:only-of-type {\n",
       "        vertical-align: middle;\n",
       "    }\n",
       "\n",
       "    .dataframe tbody tr th {\n",
       "        vertical-align: top;\n",
       "    }\n",
       "\n",
       "    .dataframe thead th {\n",
       "        text-align: right;\n",
       "    }\n",
       "</style>\n",
       "<table border=\"1\" class=\"dataframe\">\n",
       "  <thead>\n",
       "    <tr style=\"text-align: right;\">\n",
       "      <th></th>\n",
       "      <th>timestamp</th>\n",
       "      <th>user_id</th>\n",
       "      <th>content_id</th>\n",
       "      <th>content_type_id</th>\n",
       "      <th>task_container_id</th>\n",
       "      <th>user_answer</th>\n",
       "      <th>answered_correctly</th>\n",
       "      <th>prior_question_elapsed_time</th>\n",
       "      <th>prior_question_had_explanation</th>\n",
       "    </tr>\n",
       "  </thead>\n",
       "  <tbody>\n",
       "    <tr>\n",
       "      <th>0</th>\n",
       "      <td>0</td>\n",
       "      <td>115</td>\n",
       "      <td>5692</td>\n",
       "      <td>0</td>\n",
       "      <td>1</td>\n",
       "      <td>3</td>\n",
       "      <td>1</td>\n",
       "      <td>NaN</td>\n",
       "      <td>&lt;NA&gt;</td>\n",
       "    </tr>\n",
       "    <tr>\n",
       "      <th>1</th>\n",
       "      <td>56943</td>\n",
       "      <td>115</td>\n",
       "      <td>5716</td>\n",
       "      <td>0</td>\n",
       "      <td>2</td>\n",
       "      <td>2</td>\n",
       "      <td>1</td>\n",
       "      <td>37000.0</td>\n",
       "      <td>False</td>\n",
       "    </tr>\n",
       "    <tr>\n",
       "      <th>2</th>\n",
       "      <td>118363</td>\n",
       "      <td>115</td>\n",
       "      <td>128</td>\n",
       "      <td>0</td>\n",
       "      <td>0</td>\n",
       "      <td>0</td>\n",
       "      <td>1</td>\n",
       "      <td>55000.0</td>\n",
       "      <td>False</td>\n",
       "    </tr>\n",
       "    <tr>\n",
       "      <th>3</th>\n",
       "      <td>131167</td>\n",
       "      <td>115</td>\n",
       "      <td>7860</td>\n",
       "      <td>0</td>\n",
       "      <td>3</td>\n",
       "      <td>0</td>\n",
       "      <td>1</td>\n",
       "      <td>19000.0</td>\n",
       "      <td>False</td>\n",
       "    </tr>\n",
       "    <tr>\n",
       "      <th>4</th>\n",
       "      <td>137965</td>\n",
       "      <td>115</td>\n",
       "      <td>7922</td>\n",
       "      <td>0</td>\n",
       "      <td>4</td>\n",
       "      <td>1</td>\n",
       "      <td>1</td>\n",
       "      <td>11000.0</td>\n",
       "      <td>False</td>\n",
       "    </tr>\n",
       "    <tr>\n",
       "      <th>...</th>\n",
       "      <td>...</td>\n",
       "      <td>...</td>\n",
       "      <td>...</td>\n",
       "      <td>...</td>\n",
       "      <td>...</td>\n",
       "      <td>...</td>\n",
       "      <td>...</td>\n",
       "      <td>...</td>\n",
       "      <td>...</td>\n",
       "    </tr>\n",
       "    <tr>\n",
       "      <th>101230327</th>\n",
       "      <td>428564420</td>\n",
       "      <td>2147482888</td>\n",
       "      <td>3586</td>\n",
       "      <td>0</td>\n",
       "      <td>22</td>\n",
       "      <td>0</td>\n",
       "      <td>1</td>\n",
       "      <td>18000.0</td>\n",
       "      <td>True</td>\n",
       "    </tr>\n",
       "    <tr>\n",
       "      <th>101230328</th>\n",
       "      <td>428585000</td>\n",
       "      <td>2147482888</td>\n",
       "      <td>6341</td>\n",
       "      <td>0</td>\n",
       "      <td>23</td>\n",
       "      <td>3</td>\n",
       "      <td>1</td>\n",
       "      <td>14000.0</td>\n",
       "      <td>True</td>\n",
       "    </tr>\n",
       "    <tr>\n",
       "      <th>101230329</th>\n",
       "      <td>428613475</td>\n",
       "      <td>2147482888</td>\n",
       "      <td>4212</td>\n",
       "      <td>0</td>\n",
       "      <td>24</td>\n",
       "      <td>3</td>\n",
       "      <td>1</td>\n",
       "      <td>14000.0</td>\n",
       "      <td>True</td>\n",
       "    </tr>\n",
       "    <tr>\n",
       "      <th>101230330</th>\n",
       "      <td>428649406</td>\n",
       "      <td>2147482888</td>\n",
       "      <td>6343</td>\n",
       "      <td>0</td>\n",
       "      <td>25</td>\n",
       "      <td>1</td>\n",
       "      <td>0</td>\n",
       "      <td>22000.0</td>\n",
       "      <td>True</td>\n",
       "    </tr>\n",
       "    <tr>\n",
       "      <th>101230331</th>\n",
       "      <td>428692118</td>\n",
       "      <td>2147482888</td>\n",
       "      <td>7995</td>\n",
       "      <td>0</td>\n",
       "      <td>26</td>\n",
       "      <td>3</td>\n",
       "      <td>1</td>\n",
       "      <td>29000.0</td>\n",
       "      <td>True</td>\n",
       "    </tr>\n",
       "  </tbody>\n",
       "</table>\n",
       "<p>101230332 rows × 9 columns</p>\n",
       "</div>"
      ],
      "text/plain": [
       "           timestamp     user_id  content_id  content_type_id  \\\n",
       "0                  0         115        5692                0   \n",
       "1              56943         115        5716                0   \n",
       "2             118363         115         128                0   \n",
       "3             131167         115        7860                0   \n",
       "4             137965         115        7922                0   \n",
       "...              ...         ...         ...              ...   \n",
       "101230327  428564420  2147482888        3586                0   \n",
       "101230328  428585000  2147482888        6341                0   \n",
       "101230329  428613475  2147482888        4212                0   \n",
       "101230330  428649406  2147482888        6343                0   \n",
       "101230331  428692118  2147482888        7995                0   \n",
       "\n",
       "           task_container_id  user_answer  answered_correctly  \\\n",
       "0                          1            3                   1   \n",
       "1                          2            2                   1   \n",
       "2                          0            0                   1   \n",
       "3                          3            0                   1   \n",
       "4                          4            1                   1   \n",
       "...                      ...          ...                 ...   \n",
       "101230327                 22            0                   1   \n",
       "101230328                 23            3                   1   \n",
       "101230329                 24            3                   1   \n",
       "101230330                 25            1                   0   \n",
       "101230331                 26            3                   1   \n",
       "\n",
       "           prior_question_elapsed_time  prior_question_had_explanation  \n",
       "0                                  NaN                            <NA>  \n",
       "1                              37000.0                           False  \n",
       "2                              55000.0                           False  \n",
       "3                              19000.0                           False  \n",
       "4                              11000.0                           False  \n",
       "...                                ...                             ...  \n",
       "101230327                      18000.0                            True  \n",
       "101230328                      14000.0                            True  \n",
       "101230329                      14000.0                            True  \n",
       "101230330                      22000.0                            True  \n",
       "101230331                      29000.0                            True  \n",
       "\n",
       "[101230332 rows x 9 columns]"
      ]
     },
     "execution_count": 5,
     "metadata": {},
     "output_type": "execute_result"
    }
   ],
   "source": [
    "train # проверили корректность считывания файла по исходным данным"
   ]
  },
  {
   "cell_type": "markdown",
   "id": "2ac44890",
   "metadata": {},
   "source": [
    "Файл представляет собой описание всех событий взаимодействия пользователей с платформой (101,2 млн событий)."
   ]
  },
  {
   "cell_type": "markdown",
   "id": "82246de9",
   "metadata": {},
   "source": [
    "#### 2. Получаем общие сведения о файле и данных"
   ]
  },
  {
   "cell_type": "code",
   "execution_count": 25,
   "id": "8819b7c6",
   "metadata": {},
   "outputs": [
    {
     "name": "stdout",
     "output_type": "stream",
     "text": [
      "<class 'pandas.core.frame.DataFrame'>\n",
      "RangeIndex: 101230332 entries, 0 to 101230331\n",
      "Data columns (total 9 columns):\n",
      " #   Column                          Dtype  \n",
      "---  ------                          -----  \n",
      " 0   timestamp                       int32  \n",
      " 1   user_id                         int32  \n",
      " 2   content_id                      int16  \n",
      " 3   content_type_id                 int8   \n",
      " 4   task_container_id               int16  \n",
      " 5   user_answer                     int8   \n",
      " 6   answered_correctly              int8   \n",
      " 7   prior_question_elapsed_time     float32\n",
      " 8   prior_question_had_explanation  boolean\n",
      "dtypes: boolean(1), float32(1), int16(2), int32(2), int8(3)\n",
      "memory usage: 2.0 GB\n"
     ]
    }
   ],
   "source": [
    "train.info()  # узнали наименования, типы столбцов и размер файла"
   ]
  },
  {
   "cell_type": "markdown",
   "id": "4c92cbb8",
   "metadata": {},
   "source": [
    "Имея названия столбцов, проанализируем взаимосвязи между показателями"
   ]
  },
  {
   "cell_type": "code",
   "execution_count": 3,
   "id": "05cf8fc8",
   "metadata": {},
   "outputs": [
    {
     "name": "stdout",
     "output_type": "stream",
     "text": [
      "Количество уникальных пользователей - 393656\n"
     ]
    }
   ],
   "source": [
    "print(f'Количество уникальных пользователей - {train.user_id.nunique()}')"
   ]
  },
  {
   "cell_type": "code",
   "execution_count": 8,
   "id": "926d631b",
   "metadata": {},
   "outputs": [
    {
     "name": "stdout",
     "output_type": "stream",
     "text": [
      "В базе train имеется 13782 видов контента, из которых 13523 вопросов.\n"
     ]
    }
   ],
   "source": [
    "print(f'В базе train имеется {train.content_id.nunique()} видов контента, из которых {train[train.content_type_id == False].content_id.nunique()} вопросов.')"
   ]
  },
  {
   "cell_type": "code",
   "execution_count": 3,
   "id": "7f5f2d5f",
   "metadata": {},
   "outputs": [
    {
     "name": "stdout",
     "output_type": "stream",
     "text": [
      "В базе train имеется 10000 уникальных пакетов вопросов или лекций.\n"
     ]
    }
   ],
   "source": [
    "print(f'В базе train имеется {train.task_container_id.nunique()} уникальных пакетов вопросов или лекций.')"
   ]
  },
  {
   "cell_type": "markdown",
   "id": "f300dfa7",
   "metadata": {},
   "source": [
    "#### 3. Проанализируем влияние контента на успеваемость"
   ]
  },
  {
   "cell_type": "code",
   "execution_count": 6,
   "id": "7ee6ff20",
   "metadata": {},
   "outputs": [
    {
     "data": {
      "text/plain": [
       "0    99271300\n",
       "1     1959032\n",
       "Name: content_type_id, dtype: int64"
      ]
     },
     "execution_count": 6,
     "metadata": {},
     "output_type": "execute_result"
    }
   ],
   "source": [
    "# всего получено ответов по типам заданий, где 0 - вопросы, 1 - лекции\n",
    "train.content_type_id.value_counts()"
   ]
  },
  {
   "cell_type": "markdown",
   "id": "bb09b884",
   "metadata": {},
   "source": [
    "Было получено ответов на вопросы - 99,2 млн, просмотров лекций - 1,95 млн."
   ]
  },
  {
   "cell_type": "code",
   "execution_count": 4,
   "id": "2cd70fef",
   "metadata": {},
   "outputs": [
    {
     "data": {
      "image/png": "[encoded data removed]",
      "text/plain": [
       "<Figure size 864x432 with 1 Axes>"
      ]
     },
     "metadata": {
      "needs_background": "light"
     },
     "output_type": "display_data"
    }
   ],
   "source": [
    "# виды контента\n",
    "cids = train.content_id.value_counts()[:10]\n",
    "\n",
    "fig = plt.figure(figsize=(12,6))\n",
    "ax = cids.plot.bar()\n",
    "plt.title(\"Наиболее часто используемые виды контента (10)\")\n",
    "plt.xticks(rotation=90)\n",
    "plt.show()"
   ]
  },
  {
   "cell_type": "markdown",
   "id": "61d538d2",
   "metadata": {},
   "source": [
    "Максимальное количество ответов получено на задание 6116 - более 200 тыс. операций."
   ]
  },
  {
   "cell_type": "code",
   "execution_count": 5,
   "id": "bb10fdf1",
   "metadata": {},
   "outputs": [
    {
     "data": {
      "image/png": "[encoded data removed]",
      "text/plain": [
       "<Figure size 1200x400 with 1 Axes>"
      ]
     },
     "metadata": {},
     "output_type": "display_data"
    }
   ],
   "source": [
    "# получено правильных ответов, исключая лекции (-1) \n",
    "correct = train[train.answered_correctly != -1].answered_correctly.value_counts(ascending=True)\n",
    "\n",
    "fig = plt.figure(figsize=(12,4))\n",
    "correct.plot.barh()\n",
    "for i, v in zip(correct.index, correct.values):\n",
    "    plt.text(v, i, '{:,}'.format(v), color='white', fontweight='bold', fontsize=14, ha='right', va='center')\n",
    "plt.title(\"Количество правильных ответов\")\n",
    "plt.xticks(rotation=0)\n",
    "plt.show()"
   ]
  },
  {
   "cell_type": "markdown",
   "id": "bde8250a",
   "metadata": {},
   "source": [
    "Из 99 млн операций примерно в 2/3 случаях пользователи дали правильные ответы, в 1/3 случаев - неправильные."
   ]
  },
  {
   "cell_type": "markdown",
   "id": "54f7118f",
   "metadata": {},
   "source": [
    "#### 4. Проанализируем связь между длительностью обучения и правильностью ответов"
   ]
  },
  {
   "cell_type": "code",
   "execution_count": 6,
   "id": "ea07eb83",
   "metadata": {},
   "outputs": [
    {
     "data": {
      "image/png": "[encoded data removed]",
      "text/plain": [
       "<Figure size 864x432 with 1 Axes>"
      ]
     },
     "metadata": {
      "needs_background": "light"
     },
     "output_type": "display_data"
    }
   ],
   "source": [
    "# разобьем пользователей на 5 групп по времени пребывания на платформе (timestamp) \n",
    "\n",
    "bin_labels_5 = ['Группа_1', 'Группа_2', 'Группа_3', 'Группа_4', 'Группа_5']\n",
    "train['ts_bin'] = pd.qcut(train['timestamp'], q=5, labels=bin_labels_5)\n",
    "\n",
    "# правильные ответы, кроме лекций\n",
    "def correct(field):\n",
    "    correct = train[train.answered_correctly != -1].groupby([field, 'answered_correctly'], as_index=False).size()\n",
    "    correct = correct.pivot(index= field, columns='answered_correctly', values='size')\n",
    "    correct['Процент правильных ответов'] = round(correct.iloc[:,1]/(correct.iloc[:,0] + correct.iloc[:,1]),2)\n",
    "    correct = correct.sort_values(by = \"Процент правильных ответов\", ascending = False)\n",
    "    correct = correct.iloc[:,2]\n",
    "    return(correct)\n",
    "\n",
    "bins_correct = correct(\"ts_bin\")\n",
    "bins_correct = bins_correct.sort_index()\n",
    "\n",
    "fig = plt.figure(figsize=(12,6))\n",
    "plt.bar(bins_correct.index, bins_correct.values)\n",
    "for i, v in zip(bins_correct.index, bins_correct.values):\n",
    "    plt.text(i, v, v, color='white', fontweight='bold', fontsize=14, va='top', ha='center')\n",
    "plt.title(\"Процент правильных ответов по группам длительности обучения\")\n",
    "plt.xticks(rotation=0)\n",
    "plt.show()"
   ]
  },
  {
   "cell_type": "markdown",
   "id": "5eeb50ca",
   "metadata": {},
   "source": [
    "При автоматическим разбиении всех пользователей на 5 групп по длительности пребывания на платформе, процент правильных ответов минимален у тех, кто провел некоторое время на платформе и вначале отвечал хорошо. Причины могут быть следующие: (1) в начале обучения студент склонен внимательно вчитываться в вопрос и старается не совершать ошибок, а потом расслабляется; (2) последующие задания более сложные, а первые более легкие, чтобы простимулировать студентов к обучению."
   ]
  },
  {
   "cell_type": "markdown",
   "id": "5899e9ac",
   "metadata": {},
   "source": [
    "#### 5. Процент правильных ответов по блокам заданий (task_conteiner)"
   ]
  },
  {
   "cell_type": "markdown",
   "id": "95de309b",
   "metadata": {},
   "source": [
    "Последующие исследования выполнены на сокращенной базе train (1 млн операций), поскольку на моем компьютере не хватает памяти."
   ]
  },
  {
   "cell_type": "code",
   "execution_count": 8,
   "id": "5e79ce6b",
   "metadata": {},
   "outputs": [
    {
     "data": {
      "image/png": "[encoded data removed]",
      "text/plain": [
       "<Figure size 864x432 with 1 Axes>"
      ]
     },
     "metadata": {
      "needs_background": "light"
     },
     "output_type": "display_data"
    }
   ],
   "source": [
    "task_id_correct = correct(\"task_container_id\"[:1000000])\n",
    "\n",
    "fig = plt.figure(figsize=(12,6))\n",
    "task_id_correct.plot.hist(bins=40)\n",
    "plt.title(\"Гистограмма распределения правильных ответов по блокам заданий\")\n",
    "plt.xticks(rotation=0)\n",
    "plt.show()"
   ]
  },
  {
   "cell_type": "markdown",
   "id": "03f673d6",
   "metadata": {},
   "source": [
    "Гистограмма правильных ответов отличается от нормальной, возможно, из-за ограниченного объема выборки."
   ]
  },
  {
   "cell_type": "markdown",
   "id": "653f9ad2",
   "metadata": {},
   "source": [
    "#### 6. Зависимость правильного ответа от объяснений по предыдущему вопросу"
   ]
  },
  {
   "cell_type": "code",
   "execution_count": 18,
   "id": "8a49767c",
   "metadata": {},
   "outputs": [
    {
     "name": "stdout",
     "output_type": "stream",
     "text": [
      "prior_question_had_explanation\n",
      "False     86390\n",
      "True     889887\n",
      "Name: (answered_correctly, count), dtype: int64\n"
     ]
    },
    {
     "data": {
      "image/png": "[encoded data removed]",
      "text/plain": [
       "<Figure size 864x288 with 1 Axes>"
      ]
     },
     "metadata": {
      "needs_background": "light"
     },
     "output_type": "display_data"
    }
   ],
   "source": [
    "train1 = train[:1000000]\n",
    "pq = train1[train1.answered_correctly != -1].groupby(['prior_question_had_explanation'], dropna=True).agg({'answered_correctly': ['mean', 'count']})\n",
    "#pq.index = pq.index.astype(str)\n",
    "print(pq.iloc[:,1])\n",
    "pq = pq.iloc[:,0]\n",
    "\n",
    "fig = plt.figure(figsize=(12,4))\n",
    "pq.plot.barh()\n",
    "for i, v in zip(pq.index, pq.values):\n",
    "    plt.text(v, i, round(v,2), color='white', fontweight='bold', fontsize=14, ha='right', va='center')\n",
    "plt.title(\"Количество правильных ответов в зависимости от объяснений по предыдущему вопросу\")\n",
    "plt.xlabel(\"Процент правильных ответов\")\n",
    "plt.ylabel(\"Наличие объяснений по предыдущему вопросу\")\n",
    "plt.xticks(rotation=0)\n",
    "plt.show()"
   ]
  },
  {
   "cell_type": "markdown",
   "id": "82739757",
   "metadata": {},
   "source": [
    "При наличии объяснений по предыдущему вопросу процент правильных ответов примерно в 1,4 раза выше."
   ]
  },
  {
   "cell_type": "markdown",
   "id": "3e17bf2a",
   "metadata": {},
   "source": [
    "#### 7. Корреляция между средним временем ответа на предыдущий пакет вопросов и правильным ответом на последующий вопрос"
   ]
  },
  {
   "cell_type": "code",
   "execution_count": 33,
   "id": "b72f4034",
   "metadata": {},
   "outputs": [
    {
     "name": "stdout",
     "output_type": "stream",
     "text": [
      "-0.007900239787032533\n"
     ]
    }
   ],
   "source": [
    "pq = train['prior_question_elapsed_time'].corr(train['answered_correctly'])\n",
    "print(pq)"
   ]
  },
  {
   "cell_type": "markdown",
   "id": "a1590467",
   "metadata": {},
   "source": [
    "Корреляция слабая, время ответа на текущий вопрос не зависит от времени, затраченного на предыдущий пакет вопросов"
   ]
  },
  {
   "cell_type": "markdown",
   "id": "16dcccdf",
   "metadata": {},
   "source": [
    "## Исследуем файл questions"
   ]
  },
  {
   "cell_type": "code",
   "execution_count": 11,
   "id": "4d413102",
   "metadata": {},
   "outputs": [
    {
     "data": {
      "text/html": [
       "<div>\n",
       "<style scoped>\n",
       "    .dataframe tbody tr th:only-of-type {\n",
       "        vertical-align: middle;\n",
       "    }\n",
       "\n",
       "    .dataframe tbody tr th {\n",
       "        vertical-align: top;\n",
       "    }\n",
       "\n",
       "    .dataframe thead th {\n",
       "        text-align: right;\n",
       "    }\n",
       "</style>\n",
       "<table border=\"1\" class=\"dataframe\">\n",
       "  <thead>\n",
       "    <tr style=\"text-align: right;\">\n",
       "      <th></th>\n",
       "      <th>question_id</th>\n",
       "      <th>bundle_id</th>\n",
       "      <th>correct_answer</th>\n",
       "      <th>part</th>\n",
       "      <th>tags</th>\n",
       "    </tr>\n",
       "  </thead>\n",
       "  <tbody>\n",
       "    <tr>\n",
       "      <th>0</th>\n",
       "      <td>0</td>\n",
       "      <td>0</td>\n",
       "      <td>0</td>\n",
       "      <td>1</td>\n",
       "      <td>51 131 162 38</td>\n",
       "    </tr>\n",
       "    <tr>\n",
       "      <th>1</th>\n",
       "      <td>1</td>\n",
       "      <td>1</td>\n",
       "      <td>1</td>\n",
       "      <td>1</td>\n",
       "      <td>131 36 81</td>\n",
       "    </tr>\n",
       "    <tr>\n",
       "      <th>2</th>\n",
       "      <td>2</td>\n",
       "      <td>2</td>\n",
       "      <td>0</td>\n",
       "      <td>1</td>\n",
       "      <td>131 101 162 92</td>\n",
       "    </tr>\n",
       "    <tr>\n",
       "      <th>3</th>\n",
       "      <td>3</td>\n",
       "      <td>3</td>\n",
       "      <td>0</td>\n",
       "      <td>1</td>\n",
       "      <td>131 149 162 29</td>\n",
       "    </tr>\n",
       "    <tr>\n",
       "      <th>4</th>\n",
       "      <td>4</td>\n",
       "      <td>4</td>\n",
       "      <td>3</td>\n",
       "      <td>1</td>\n",
       "      <td>131 5 162 38</td>\n",
       "    </tr>\n",
       "    <tr>\n",
       "      <th>...</th>\n",
       "      <td>...</td>\n",
       "      <td>...</td>\n",
       "      <td>...</td>\n",
       "      <td>...</td>\n",
       "      <td>...</td>\n",
       "    </tr>\n",
       "    <tr>\n",
       "      <th>13518</th>\n",
       "      <td>13518</td>\n",
       "      <td>13518</td>\n",
       "      <td>3</td>\n",
       "      <td>5</td>\n",
       "      <td>14</td>\n",
       "    </tr>\n",
       "    <tr>\n",
       "      <th>13519</th>\n",
       "      <td>13519</td>\n",
       "      <td>13519</td>\n",
       "      <td>3</td>\n",
       "      <td>5</td>\n",
       "      <td>8</td>\n",
       "    </tr>\n",
       "    <tr>\n",
       "      <th>13520</th>\n",
       "      <td>13520</td>\n",
       "      <td>13520</td>\n",
       "      <td>2</td>\n",
       "      <td>5</td>\n",
       "      <td>73</td>\n",
       "    </tr>\n",
       "    <tr>\n",
       "      <th>13521</th>\n",
       "      <td>13521</td>\n",
       "      <td>13521</td>\n",
       "      <td>0</td>\n",
       "      <td>5</td>\n",
       "      <td>125</td>\n",
       "    </tr>\n",
       "    <tr>\n",
       "      <th>13522</th>\n",
       "      <td>13522</td>\n",
       "      <td>13522</td>\n",
       "      <td>3</td>\n",
       "      <td>5</td>\n",
       "      <td>55</td>\n",
       "    </tr>\n",
       "  </tbody>\n",
       "</table>\n",
       "<p>13523 rows × 5 columns</p>\n",
       "</div>"
      ],
      "text/plain": [
       "       question_id  bundle_id  correct_answer  part            tags\n",
       "0                0          0               0     1   51 131 162 38\n",
       "1                1          1               1     1       131 36 81\n",
       "2                2          2               0     1  131 101 162 92\n",
       "3                3          3               0     1  131 149 162 29\n",
       "4                4          4               3     1    131 5 162 38\n",
       "...            ...        ...             ...   ...             ...\n",
       "13518        13518      13518               3     5              14\n",
       "13519        13519      13519               3     5               8\n",
       "13520        13520      13520               2     5              73\n",
       "13521        13521      13521               0     5             125\n",
       "13522        13522      13522               3     5              55\n",
       "\n",
       "[13523 rows x 5 columns]"
      ]
     },
     "execution_count": 11,
     "metadata": {},
     "output_type": "execute_result"
    }
   ],
   "source": [
    "questions = pd.read_csv('questions.csv')\n",
    "questions"
   ]
  },
  {
   "cell_type": "markdown",
   "id": "ca796e91",
   "metadata": {},
   "source": [
    "Видим, что имеется 13522 вида вопросов и 13522 вида пакета вопросов в 5 частях теста. Для некоторых вопросов указано несколько тегов, для други - только один."
   ]
  },
  {
   "cell_type": "code",
   "execution_count": 4,
   "id": "2202a1e9",
   "metadata": {},
   "outputs": [
    {
     "name": "stdout",
     "output_type": "stream",
     "text": [
      "<class 'pandas.core.frame.DataFrame'>\n",
      "RangeIndex: 13523 entries, 0 to 13522\n",
      "Data columns (total 5 columns):\n",
      " #   Column          Non-Null Count  Dtype \n",
      "---  ------          --------------  ----- \n",
      " 0   question_id     13523 non-null  int64 \n",
      " 1   bundle_id       13523 non-null  int64 \n",
      " 2   correct_answer  13523 non-null  int64 \n",
      " 3   part            13523 non-null  int64 \n",
      " 4   tags            13522 non-null  object\n",
      "dtypes: int64(4), object(1)\n",
      "memory usage: 528.4+ KB\n"
     ]
    }
   ],
   "source": [
    "questions.info()"
   ]
  },
  {
   "cell_type": "markdown",
   "id": "6e8f349f",
   "metadata": {},
   "source": [
    "В колонке tags имеется объект NaN."
   ]
  },
  {
   "cell_type": "markdown",
   "id": "fd7f8687",
   "metadata": {},
   "source": [
    "#### 2. Исследуем значение тегов"
   ]
  },
  {
   "cell_type": "code",
   "execution_count": 5,
   "id": "9730e592",
   "metadata": {},
   "outputs": [
    {
     "name": "stdout",
     "output_type": "stream",
     "text": [
      "Имеется 188 различных тэгов.\n"
     ]
    }
   ],
   "source": [
    "questions['tags'] = questions['tags'].astype(str)\n",
    "\n",
    "tags = [x.split() for x in questions[questions.tags != \"nan\"].tags.values]\n",
    "tags = [item for elem in tags for item in elem]\n",
    "tags = set(tags)\n",
    "tags = list(tags)\n",
    "print(f'Имеется {len(tags)} различных тэгов.')"
   ]
  },
  {
   "cell_type": "code",
   "execution_count": 10,
   "id": "e93bff2b",
   "metadata": {},
   "outputs": [
    {
     "data": {
      "text/html": [
       "<div>\n",
       "<style scoped>\n",
       "    .dataframe tbody tr th:only-of-type {\n",
       "        vertical-align: middle;\n",
       "    }\n",
       "\n",
       "    .dataframe tbody tr th {\n",
       "        vertical-align: top;\n",
       "    }\n",
       "\n",
       "    .dataframe thead th {\n",
       "        text-align: right;\n",
       "    }\n",
       "</style>\n",
       "<table border=\"1\" class=\"dataframe\">\n",
       "  <thead>\n",
       "    <tr style=\"text-align: right;\">\n",
       "      <th></th>\n",
       "      <th>question_id</th>\n",
       "      <th>bundle_id</th>\n",
       "      <th>correct_answer</th>\n",
       "      <th>part</th>\n",
       "      <th>tags</th>\n",
       "      <th>Wrong</th>\n",
       "      <th>Right</th>\n",
       "    </tr>\n",
       "  </thead>\n",
       "  <tbody>\n",
       "    <tr>\n",
       "      <th>0</th>\n",
       "      <td>0</td>\n",
       "      <td>0</td>\n",
       "      <td>0</td>\n",
       "      <td>1</td>\n",
       "      <td>51 131 162 38</td>\n",
       "      <td>637</td>\n",
       "      <td>6266</td>\n",
       "    </tr>\n",
       "    <tr>\n",
       "      <th>1</th>\n",
       "      <td>1</td>\n",
       "      <td>1</td>\n",
       "      <td>1</td>\n",
       "      <td>1</td>\n",
       "      <td>131 36 81</td>\n",
       "      <td>809</td>\n",
       "      <td>6589</td>\n",
       "    </tr>\n",
       "    <tr>\n",
       "      <th>2</th>\n",
       "      <td>2</td>\n",
       "      <td>2</td>\n",
       "      <td>0</td>\n",
       "      <td>1</td>\n",
       "      <td>131 101 162 92</td>\n",
       "      <td>20015</td>\n",
       "      <td>24890</td>\n",
       "    </tr>\n",
       "    <tr>\n",
       "      <th>3</th>\n",
       "      <td>3</td>\n",
       "      <td>3</td>\n",
       "      <td>0</td>\n",
       "      <td>1</td>\n",
       "      <td>131 149 162 29</td>\n",
       "      <td>5067</td>\n",
       "      <td>17906</td>\n",
       "    </tr>\n",
       "    <tr>\n",
       "      <th>4</th>\n",
       "      <td>4</td>\n",
       "      <td>4</td>\n",
       "      <td>3</td>\n",
       "      <td>1</td>\n",
       "      <td>131 5 162 38</td>\n",
       "      <td>12275</td>\n",
       "      <td>19461</td>\n",
       "    </tr>\n",
       "    <tr>\n",
       "      <th>...</th>\n",
       "      <td>...</td>\n",
       "      <td>...</td>\n",
       "      <td>...</td>\n",
       "      <td>...</td>\n",
       "      <td>...</td>\n",
       "      <td>...</td>\n",
       "      <td>...</td>\n",
       "    </tr>\n",
       "    <tr>\n",
       "      <th>13518</th>\n",
       "      <td>13518</td>\n",
       "      <td>13518</td>\n",
       "      <td>3</td>\n",
       "      <td>5</td>\n",
       "      <td>14</td>\n",
       "      <td>185</td>\n",
       "      <td>683</td>\n",
       "    </tr>\n",
       "    <tr>\n",
       "      <th>13519</th>\n",
       "      <td>13519</td>\n",
       "      <td>13519</td>\n",
       "      <td>3</td>\n",
       "      <td>5</td>\n",
       "      <td>8</td>\n",
       "      <td>396</td>\n",
       "      <td>528</td>\n",
       "    </tr>\n",
       "    <tr>\n",
       "      <th>13520</th>\n",
       "      <td>13520</td>\n",
       "      <td>13520</td>\n",
       "      <td>2</td>\n",
       "      <td>5</td>\n",
       "      <td>73</td>\n",
       "      <td>282</td>\n",
       "      <td>579</td>\n",
       "    </tr>\n",
       "    <tr>\n",
       "      <th>13521</th>\n",
       "      <td>13521</td>\n",
       "      <td>13521</td>\n",
       "      <td>0</td>\n",
       "      <td>5</td>\n",
       "      <td>125</td>\n",
       "      <td>167</td>\n",
       "      <td>703</td>\n",
       "    </tr>\n",
       "    <tr>\n",
       "      <th>13522</th>\n",
       "      <td>13522</td>\n",
       "      <td>13522</td>\n",
       "      <td>3</td>\n",
       "      <td>5</td>\n",
       "      <td>55</td>\n",
       "      <td>74</td>\n",
       "      <td>786</td>\n",
       "    </tr>\n",
       "  </tbody>\n",
       "</table>\n",
       "<p>13523 rows × 7 columns</p>\n",
       "</div>"
      ],
      "text/plain": [
       "       question_id  bundle_id  correct_answer  part            tags  Wrong  \\\n",
       "0                0          0               0     1   51 131 162 38    637   \n",
       "1                1          1               1     1       131 36 81    809   \n",
       "2                2          2               0     1  131 101 162 92  20015   \n",
       "3                3          3               0     1  131 149 162 29   5067   \n",
       "4                4          4               3     1    131 5 162 38  12275   \n",
       "...            ...        ...             ...   ...             ...    ...   \n",
       "13518        13518      13518               3     5              14    185   \n",
       "13519        13519      13519               3     5               8    396   \n",
       "13520        13520      13520               2     5              73    282   \n",
       "13521        13521      13521               0     5             125    167   \n",
       "13522        13522      13522               3     5              55     74   \n",
       "\n",
       "       Right  \n",
       "0       6266  \n",
       "1       6589  \n",
       "2      24890  \n",
       "3      17906  \n",
       "4      19461  \n",
       "...      ...  \n",
       "13518    683  \n",
       "13519    528  \n",
       "13520    579  \n",
       "13521    703  \n",
       "13522    786  \n",
       "\n",
       "[13523 rows x 7 columns]"
      ]
     },
     "execution_count": 10,
     "metadata": {},
     "output_type": "execute_result"
    }
   ],
   "source": [
    "tags_list = [x for x in questions.tags.values]\n",
    "questions['tags'] = tags_list\n",
    "questions.head()\n",
    "\n",
    "correct = train[train.answered_correctly != -1].groupby([\"content_id\", 'answered_correctly'], as_index=False).size()\n",
    "correct = correct.pivot(index= \"content_id\", columns='answered_correctly', values='size')\n",
    "correct.columns = ['Wrong', 'Right']\n",
    "correct = correct.fillna(0)\n",
    "correct[['Wrong', 'Right']] = correct[['Wrong', 'Right']].astype(int)\n",
    "questions = questions.merge(correct, left_on = \"question_id\", right_on = \"content_id\", how = \"left\")\n",
    "questions"
   ]
  },
  {
   "cell_type": "raw",
   "id": "a2da9097",
   "metadata": {},
   "source": [
    "Видим, что теги могут относиться только к одному вопросу или к нескольким. Например, тег 131 относится к различным типам вопросов, причем некоторые из них более легкие, а другие - более трудные (процент правильных ответов меньше). К сожалению, значения тегов в описании не приводятся."
   ]
  },
  {
   "cell_type": "markdown",
   "id": "8c67cb6c",
   "metadata": {},
   "source": [
    "## Исследуем файл lectures"
   ]
  },
  {
   "cell_type": "code",
   "execution_count": 26,
   "id": "a179a05e",
   "metadata": {},
   "outputs": [],
   "source": [
    "import numpy as np"
   ]
  },
  {
   "cell_type": "markdown",
   "id": "5394d6f5",
   "metadata": {},
   "source": [
    "#### 1. Общие сведения"
   ]
  },
  {
   "cell_type": "code",
   "execution_count": 16,
   "id": "78fe56f1",
   "metadata": {},
   "outputs": [
    {
     "data": {
      "text/html": [
       "<div>\n",
       "<style scoped>\n",
       "    .dataframe tbody tr th:only-of-type {\n",
       "        vertical-align: middle;\n",
       "    }\n",
       "\n",
       "    .dataframe tbody tr th {\n",
       "        vertical-align: top;\n",
       "    }\n",
       "\n",
       "    .dataframe thead th {\n",
       "        text-align: right;\n",
       "    }\n",
       "</style>\n",
       "<table border=\"1\" class=\"dataframe\">\n",
       "  <thead>\n",
       "    <tr style=\"text-align: right;\">\n",
       "      <th></th>\n",
       "      <th>lecture_id</th>\n",
       "      <th>tag</th>\n",
       "      <th>part</th>\n",
       "      <th>type_of</th>\n",
       "    </tr>\n",
       "  </thead>\n",
       "  <tbody>\n",
       "    <tr>\n",
       "      <th>0</th>\n",
       "      <td>89</td>\n",
       "      <td>159</td>\n",
       "      <td>5</td>\n",
       "      <td>concept</td>\n",
       "    </tr>\n",
       "    <tr>\n",
       "      <th>1</th>\n",
       "      <td>100</td>\n",
       "      <td>70</td>\n",
       "      <td>1</td>\n",
       "      <td>concept</td>\n",
       "    </tr>\n",
       "    <tr>\n",
       "      <th>2</th>\n",
       "      <td>185</td>\n",
       "      <td>45</td>\n",
       "      <td>6</td>\n",
       "      <td>concept</td>\n",
       "    </tr>\n",
       "    <tr>\n",
       "      <th>3</th>\n",
       "      <td>192</td>\n",
       "      <td>79</td>\n",
       "      <td>5</td>\n",
       "      <td>solving question</td>\n",
       "    </tr>\n",
       "    <tr>\n",
       "      <th>4</th>\n",
       "      <td>317</td>\n",
       "      <td>156</td>\n",
       "      <td>5</td>\n",
       "      <td>solving question</td>\n",
       "    </tr>\n",
       "    <tr>\n",
       "      <th>...</th>\n",
       "      <td>...</td>\n",
       "      <td>...</td>\n",
       "      <td>...</td>\n",
       "      <td>...</td>\n",
       "    </tr>\n",
       "    <tr>\n",
       "      <th>413</th>\n",
       "      <td>32535</td>\n",
       "      <td>8</td>\n",
       "      <td>5</td>\n",
       "      <td>solving question</td>\n",
       "    </tr>\n",
       "    <tr>\n",
       "      <th>414</th>\n",
       "      <td>32570</td>\n",
       "      <td>113</td>\n",
       "      <td>3</td>\n",
       "      <td>solving question</td>\n",
       "    </tr>\n",
       "    <tr>\n",
       "      <th>415</th>\n",
       "      <td>32604</td>\n",
       "      <td>24</td>\n",
       "      <td>6</td>\n",
       "      <td>concept</td>\n",
       "    </tr>\n",
       "    <tr>\n",
       "      <th>416</th>\n",
       "      <td>32625</td>\n",
       "      <td>142</td>\n",
       "      <td>2</td>\n",
       "      <td>concept</td>\n",
       "    </tr>\n",
       "    <tr>\n",
       "      <th>417</th>\n",
       "      <td>32736</td>\n",
       "      <td>82</td>\n",
       "      <td>3</td>\n",
       "      <td>concept</td>\n",
       "    </tr>\n",
       "  </tbody>\n",
       "</table>\n",
       "<p>418 rows × 4 columns</p>\n",
       "</div>"
      ],
      "text/plain": [
       "     lecture_id  tag  part           type_of\n",
       "0            89  159     5           concept\n",
       "1           100   70     1           concept\n",
       "2           185   45     6           concept\n",
       "3           192   79     5  solving question\n",
       "4           317  156     5  solving question\n",
       "..          ...  ...   ...               ...\n",
       "413       32535    8     5  solving question\n",
       "414       32570  113     3  solving question\n",
       "415       32604   24     6           concept\n",
       "416       32625  142     2           concept\n",
       "417       32736   82     3           concept\n",
       "\n",
       "[418 rows x 4 columns]"
      ]
     },
     "execution_count": 16,
     "metadata": {},
     "output_type": "execute_result"
    }
   ],
   "source": [
    "lectures = pd.read_csv('lectures.csv')\n",
    "lectures"
   ]
  },
  {
   "cell_type": "code",
   "execution_count": 20,
   "id": "271fcdc4",
   "metadata": {},
   "outputs": [
    {
     "name": "stdout",
     "output_type": "stream",
     "text": [
      "На платформе размещено 418 лекций.\n"
     ]
    }
   ],
   "source": [
    "print(f'На платформе размещено {lectures.shape[0]} лекций.')"
   ]
  },
  {
   "cell_type": "code",
   "execution_count": 22,
   "id": "f04d8ee1",
   "metadata": {},
   "outputs": [
    {
     "data": {
      "image/png": "[encoded data removed]",
      "text/plain": [
       "<Figure size 864x432 with 1 Axes>"
      ]
     },
     "metadata": {
      "needs_background": "light"
     },
     "output_type": "display_data"
    }
   ],
   "source": [
    "lect_type_of = lectures.type_of.value_counts()\n",
    "\n",
    "fig = plt.figure(figsize=(12,6))\n",
    "plt.bar(lect_type_of.index, lect_type_of.values)\n",
    "for i, v in zip(lect_type_of.index, lect_type_of.values):\n",
    "    plt.text(i, v, v, color='black', fontweight='bold', fontsize=14, va='bottom', ha='center')\n",
    "plt.title(\"Виды лекций\")\n",
    "plt.xlabel(\"Виды\")\n",
    "plt.ylabel(\"Количество\")\n",
    "plt.xticks(rotation=0)\n",
    "plt.show()"
   ]
  },
  {
   "cell_type": "raw",
   "id": "b40f6494",
   "metadata": {},
   "source": [
    "Имеется 4 вида лекций: концепция (очевидно, объяснение), решение проблем (семинар), намерение (постановка целей) и вводные."
   ]
  },
  {
   "cell_type": "markdown",
   "id": "b31916d0",
   "metadata": {},
   "source": [
    "#### 2. Проанализируем, как влияет просмотр лекций на правильность ответов"
   ]
  },
  {
   "cell_type": "code",
   "execution_count": 25,
   "id": "a33a982b",
   "metadata": {},
   "outputs": [
    {
     "name": "stdout",
     "output_type": "stream",
     "text": [
      "False    244050\n",
      "True     149606\n",
      "Name: Watches_lecture, dtype: int64\n"
     ]
    },
    {
     "data": {
      "image/png": "[encoded data removed]",
      "text/plain": [
       "<Figure size 864x288 with 1 Axes>"
      ]
     },
     "metadata": {
      "needs_background": "light"
     },
     "output_type": "display_data"
    }
   ],
   "source": [
    "user_lect = train.groupby([\"user_id\", \"answered_correctly\"]).size().unstack()\n",
    "user_lect.columns = ['Lecture', 'Wrong', 'Right']\n",
    "user_lect['Lecture'] = user_lect['Lecture'].fillna(0)\n",
    "user_lect = user_lect.astype('Int64')\n",
    "user_lect['Watches_lecture'] = np.where(user_lect.Lecture > 0, True, False)\n",
    "\n",
    "watches_l = user_lect.groupby(\"Watches_lecture\").agg({'Wrong': ['sum'], 'Right': ['sum']})\n",
    "print(user_lect.Watches_lecture.value_counts())\n",
    "\n",
    "watches_l['Percent_correct'] = watches_l.Right/(watches_l.Right + watches_l.Wrong)\n",
    "\n",
    "watches_l = watches_l.iloc[:,2]\n",
    "\n",
    "fig = plt.figure(figsize=(12,4))\n",
    "watches_l.plot.barh()\n",
    "for i, v in zip(watches_l.index, watches_l.values):\n",
    "    plt.text(v, i, round(v,2), color='white', fontweight='bold', fontsize=14, ha='right', va='center')\n",
    "\n",
    "plt.title(\"Процент правильных ответов у пользователей, смотревших лекции\")\n",
    "plt.xlabel(\"Процент правильных ответов\")\n",
    "plt.ylabel(\"Пользователи, просмотревшие не менее 1 лекции\")\n",
    "plt.xticks(rotation=0)\n",
    "plt.show()"
   ]
  },
  {
   "cell_type": "markdown",
   "id": "cbed484a",
   "metadata": {},
   "source": [
    "Видим, что просмотр лекций влияет на правильность ответов, но не слишком существенно."
   ]
  },
  {
   "cell_type": "markdown",
   "id": "dd34951a",
   "metadata": {},
   "source": [
    "## Выводы:\n",
    "\n",
    "Исследуются события взаимодействия 393 тыс. пользователей с образовательной платформой (101,2 млн событий).\n",
    "На платформе представлено 13523 вопроса, объединенных в 10000 пакетов.\n",
    "\n",
    "Было получено ответов на вопросы - 99,2 млн, просмотров лекций - 1,95 млн, т.е. в среднем на студента приходится 252 ответа на вопросы и 5 просмотров лекций. При этом на некоторые виды вопросов было получено до 200 тыс. ответов.\n",
    "Из 99 млн операций примерно в 2/3 случаях пользователи дали правильные ответы, в 1/3 случаев - неправильные.\n",
    "\n",
    "При автоматическим разбиении всех пользователей на 5 групп по длительности пребывания на платформе, процент правильных ответов минимален у 2 группы (тех, кто провел некоторое время на платформе и вначале отвечал хорошо). Причины могут быть следующие: (1) в начале обучения студент склонен внимательно вчитываться в вопрос и старается не совершать ошибок, а потом расслабляется; (2) последующие задания более сложные, а первые даются полегче, чтобы простимулировать студентов к обучению.\n",
    "\n",
    "К сожалению, не удалось в полном объеме проанализировать распределение правильных ответов, которое отличается от нормального, по причине ограничений памяти. Особенный интерес представляет правильность ответов по видам контента.\n",
    "\n",
    "При наличии объяснений по предыдущему пакету вопросов процент правильных ответов примерно в 1,4 раза выше.\n",
    "\n",
    "Наблюдается довольно слабая корреляция между временем ответа на текущий вопрос и временем, затраченным на предыдущий пакет вопросов, что говорит о разнообразии вопросов.\n",
    "\n",
    "Имеется 188 различных тегов вопросов, которые могут относиться как к одному вопросу, так и к нескольким. К сожалению, значения тегов в описании не приводятся.\n",
    "\n",
    "На платформе размещено 418 лекций 4 видов: объяснение, семинар, постановка целей и вводные. Несмотря на то, что объяснения и семинары составляют подавляющее большинство лекций (97,6%), просмотр лекций не слишком влияет на правильность ответов.\n",
    "\n",
    "Таким образом, исходя из проанализированных признаков, на успеваемость положительно влияют следующие факторы:\n",
    "- время на платформе; \n",
    "- пояснения по предыдущему пакету вопросов, но не лекции/семинары.\n",
    "\n",
    "Для повышения успеваемости предположительно нужно удерживать пользователя на платформе для роста процента правильных ответов; давать пояснения по пакетам вопросов; сгладить сложность вопросов в 1 и последующих группах во избежание потери мотивации.\n"
   ]
  }
 ],
 "metadata": {
  "kernelspec": {
   "display_name": "Python 3 (ipykernel)",
   "language": "python",
   "name": "python3"
  },
  "language_info": {
   "codemirror_mode": {
    "name": "ipython",
    "version": 3
   },
   "file_extension": ".py",
   "mimetype": "text/x-python",
   "name": "python",
   "nbconvert_exporter": "python",
   "pygments_lexer": "ipython3",
   "version": "3.9.12"
  }
 },
 "nbformat": 4,
 "nbformat_minor": 5
}
