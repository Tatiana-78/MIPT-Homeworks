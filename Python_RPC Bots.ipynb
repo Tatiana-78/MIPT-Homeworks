{
  "nbformat": 4,
  "nbformat_minor": 0,
  "metadata": {
    "colab": {
      "provenance": [],
      "collapsed_sections": []
    },
    "kernelspec": {
      "name": "python3",
      "display_name": "Python 3"
    },
    "language_info": {
      "name": "python"
    }
  },
  "cells": [
    {
      "cell_type": "code",
      "execution_count": 3,
      "metadata": {
        "id": "MXXTuy_o0sjk",
        "colab": {
          "base_uri": "https://localhost:8080/"
        },
        "outputId": "873b19bd-153a-455d-a6a2-108a1c85e738"
      },
      "outputs": [
        {
          "output_type": "stream",
          "name": "stdout",
          "text": [
            "\u001b[K     |████████████████████████████████| 1.9 MB 2.1 MB/s \n",
            "\u001b[K     |████████████████████████████████| 62 kB 1.4 MB/s \n",
            "\u001b[?25h"
          ]
        }
      ],
      "source": [
        "!pip install -q -U kaggle_environments"
      ]
    },
    {
      "cell_type": "code",
      "source": [
        "import numpy as np\n",
        "import pandas as pd\n",
        "import random\n",
        "\n",
        "import matplotlib.pyplot as plt\n",
        "import seaborn as sns\n",
        "\n",
        "from kaggle_environments import make, evaluate\n"
      ],
      "metadata": {
        "id": "yz23vWHD0wcj"
      },
      "execution_count": 4,
      "outputs": []
    },
    {
      "cell_type": "markdown",
      "source": [
        "1) Бот - всегда \"камень\""
      ],
      "metadata": {
        "id": "0kuo6IOxiRub"
      }
    },
    {
      "cell_type": "code",
      "source": [
        "%%writefile rock_agent.py\n",
        "\n",
        "def rock_agent(observation, configuration):\n",
        "  return 0"
      ],
      "metadata": {
        "id": "bqTqV7B92rJ6",
        "colab": {
          "base_uri": "https://localhost:8080/"
        },
        "outputId": "243a3e15-1580-4fe5-bc85-be523893fd36"
      },
      "execution_count": 39,
      "outputs": [
        {
          "output_type": "stream",
          "name": "stdout",
          "text": [
            "Overwriting rock_agent.py\n"
          ]
        }
      ]
    },
    {
      "cell_type": "code",
      "source": [
        "evaluate(\n",
        "  \"rps\", #environment to use - no need to change\n",
        "  [\"rock_agent.py\", \"statistical.py\"], #agents to evaluate\n",
        "  configuration={\"episodeSteps\": 100} #number of episodes \n",
        ")"
      ],
      "metadata": {
        "colab": {
          "base_uri": "https://localhost:8080/"
        },
        "id": "byRiSjvf-iAE",
        "outputId": "a2123b07-80b4-42bd-a8c2-cafaf1412f9a"
      },
      "execution_count": 41,
      "outputs": [
        {
          "output_type": "execute_result",
          "data": {
            "text/plain": [
              "[[-98.0, 98.0]]"
            ]
          },
          "metadata": {},
          "execution_count": 41
        }
      ]
    },
    {
      "cell_type": "markdown",
      "source": [
        "2) Бот - всегда \"бумага\""
      ],
      "metadata": {
        "id": "NDakiwi7AV00"
      }
    },
    {
      "cell_type": "code",
      "source": [
        "%%writefile paper_agent.py\n",
        "\n",
        "def paper_agent(observation, configuration):\n",
        "  return 1"
      ],
      "metadata": {
        "id": "tU-ZyI2B6TH9",
        "outputId": "a026300b-a47a-4a19-ca6c-f12376c72a33",
        "colab": {
          "base_uri": "https://localhost:8080/"
        }
      },
      "execution_count": 42,
      "outputs": [
        {
          "output_type": "stream",
          "name": "stdout",
          "text": [
            "Overwriting paper_agent.py\n"
          ]
        }
      ]
    },
    {
      "cell_type": "code",
      "source": [
        "evaluate(\n",
        "  \"rps\", #environment to use - no need to change\n",
        "  [\"paper_agent.py\",  \"statistical.py\"], #agents to evaluate\n",
        "  configuration={\"episodeSteps\": 100} #number of episodes \n",
        ")"
      ],
      "metadata": {
        "colab": {
          "base_uri": "https://localhost:8080/"
        },
        "id": "KaVHUkZF_9eP",
        "outputId": "9462607a-4663-42e6-dbdc-007f8ec5fd95"
      },
      "execution_count": 43,
      "outputs": [
        {
          "output_type": "execute_result",
          "data": {
            "text/plain": [
              "[[-97.0, 97.0]]"
            ]
          },
          "metadata": {},
          "execution_count": 43
        }
      ]
    },
    {
      "cell_type": "markdown",
      "source": [
        "3) Бот - всегда \"ножницы\""
      ],
      "metadata": {
        "id": "9OCakRQ7AgbA"
      }
    },
    {
      "cell_type": "code",
      "source": [
        "%%writefile scissors_agent.py\n",
        "\n",
        "def scissors_agent(observation, configuration):\n",
        "  return 2"
      ],
      "metadata": {
        "id": "_P1xLiig6k1t",
        "outputId": "d62a6a8d-7600-43aa-f517-068c73db9792",
        "colab": {
          "base_uri": "https://localhost:8080/"
        }
      },
      "execution_count": 9,
      "outputs": [
        {
          "output_type": "stream",
          "name": "stdout",
          "text": [
            "Writing scissors_agent.py\n"
          ]
        }
      ]
    },
    {
      "cell_type": "code",
      "source": [
        "evaluate(\n",
        "  \"rps\", #environment to use - no need to change\n",
        "  [\"scissors_agent.py\",  \"statistical.py\"], #agents to evaluate\n",
        "  configuration={\"episodeSteps\": 100} #number of episodes \n",
        ")"
      ],
      "metadata": {
        "colab": {
          "base_uri": "https://localhost:8080/"
        },
        "id": "ug6hGoXm_--2",
        "outputId": "36b46a50-dc33-45ac-f346-a509fe5d149f"
      },
      "execution_count": 44,
      "outputs": [
        {
          "output_type": "execute_result",
          "data": {
            "text/plain": [
              "[[-99.0, 99.0]]"
            ]
          },
          "metadata": {},
          "execution_count": 44
        }
      ]
    },
    {
      "cell_type": "markdown",
      "source": [
        "4) Бот, копирующий оппонента"
      ],
      "metadata": {
        "id": "et1J5hUGigeh"
      }
    },
    {
      "cell_type": "code",
      "source": [
        "%%writefile copy_opponent.py\n",
        "import random\n",
        "\n",
        "def copy_opponent(observation, configuration):\n",
        "  if observation.step > 0:\n",
        "    return observation.lastOpponentAction\n",
        "  #initial step\n",
        "  else:\n",
        "    return random.randrange(0, configuration.signs)"
      ],
      "metadata": {
        "id": "7l6Ttw6qi0jk",
        "colab": {
          "base_uri": "https://localhost:8080/"
        },
        "outputId": "33f252f9-29a8-4b10-c018-f3d54e9b4609"
      },
      "execution_count": 45,
      "outputs": [
        {
          "output_type": "stream",
          "name": "stdout",
          "text": [
            "Overwriting copy_opponent.py\n"
          ]
        }
      ]
    },
    {
      "cell_type": "code",
      "source": [
        "evaluate(\n",
        "  \"rps\", #environment to use - no need to change\n",
        "  [\"copy_opponent.py\",  \"statistical.py\"], #agents to evaluate\n",
        "  configuration={\"episodeSteps\": 100} #number of episodes \n",
        ")"
      ],
      "metadata": {
        "colab": {
          "base_uri": "https://localhost:8080/"
        },
        "id": "c0QijPVXAmzR",
        "outputId": "27b13c1c-be52-4ef4-ee6b-5d886b3a0ae8"
      },
      "execution_count": 46,
      "outputs": [
        {
          "output_type": "execute_result",
          "data": {
            "text/plain": [
              "[[-20.0, 20.0]]"
            ]
          },
          "metadata": {},
          "execution_count": 46
        }
      ]
    },
    {
      "cell_type": "markdown",
      "source": [
        "5) Случайный бот"
      ],
      "metadata": {
        "id": "F4xcQM-9aYK7"
      }
    },
    {
      "cell_type": "code",
      "source": [
        "%%writefile random_agent.py\n",
        "import random\n",
        "\n",
        "def random_agent(observation, configuration):\n",
        "  return random.randrange(random.randrange(0, 3), configuration.signs)"
      ],
      "metadata": {
        "colab": {
          "base_uri": "https://localhost:8080/"
        },
        "id": "YPfqwiaHabOC",
        "outputId": "967803dd-49b8-47af-f383-9c294d5ca76d"
      },
      "execution_count": 48,
      "outputs": [
        {
          "output_type": "stream",
          "name": "stdout",
          "text": [
            "Overwriting random_agent.py\n"
          ]
        }
      ]
    },
    {
      "cell_type": "code",
      "source": [
        "evaluate(\n",
        "  \"rps\", #environment to use - no need to change\n",
        "  [\"random_agent.py\",  \"statistical.py\"], #agents to evaluate\n",
        "  configuration={\"episodeSteps\": 100} #number of episodes \n",
        ")\n"
      ],
      "metadata": {
        "colab": {
          "base_uri": "https://localhost:8080/"
        },
        "id": "OC3HBpXhab2L",
        "outputId": "e59920ea-8566-4745-d043-b7243e9cc52d"
      },
      "execution_count": 49,
      "outputs": [
        {
          "output_type": "execute_result",
          "data": {
            "text/plain": [
              "[[-20.0, 20.0]]"
            ]
          },
          "metadata": {},
          "execution_count": 49
        }
      ]
    },
    {
      "cell_type": "markdown",
      "source": [
        "6) Бот, повторяющий свое последнее действие"
      ],
      "metadata": {
        "id": "2NNTHy50dhOp"
      }
    },
    {
      "cell_type": "code",
      "source": [
        "%%writefile hit_the_last_own_action.py\n",
        "\n",
        "my_last_action = 0\n",
        "\n",
        "def hit_the_last_own_action(observation, configuration):\n",
        "  global my_last_action\n",
        "  my_last_action = (my_last_action + 1) % 3\n",
        "    \n",
        "  return my_last_action"
      ],
      "metadata": {
        "colab": {
          "base_uri": "https://localhost:8080/"
        },
        "id": "IGHD42Y3Y0x3",
        "outputId": "8544ef56-5978-4819-80d2-8ba377979b4a"
      },
      "execution_count": 50,
      "outputs": [
        {
          "output_type": "stream",
          "name": "stdout",
          "text": [
            "Overwriting hit_the_last_own_action.py\n"
          ]
        }
      ]
    },
    {
      "cell_type": "code",
      "source": [
        "evaluate(\n",
        "  \"rps\", #environment to use - no need to change\n",
        "  [\"hit_the_last_own_action.py\",  \"statistical.py\"], #agents to evaluate\n",
        "  configuration={\"episodeSteps\": 100} #number of episodes \n",
        ")"
      ],
      "metadata": {
        "colab": {
          "base_uri": "https://localhost:8080/"
        },
        "id": "DGF8UOHvJ66Q",
        "outputId": "ea65b4a2-775a-4514-e79e-7f0c63c5316a"
      },
      "execution_count": 51,
      "outputs": [
        {
          "output_type": "execute_result",
          "data": {
            "text/plain": [
              "[[0, 0]]"
            ]
          },
          "metadata": {},
          "execution_count": 51
        }
      ]
    },
    {
      "cell_type": "markdown",
      "source": [
        "7) Бот с равновесием Нэша"
      ],
      "metadata": {
        "id": "i0ctUkxzRGxD"
      }
    },
    {
      "cell_type": "code",
      "source": [
        "%%writefile nash_equilibrium.py\n",
        "\n",
        "import random\n",
        "\n",
        "def nash_equilibrium(observation, configuration):\n",
        "  return random.randint(0, 2)"
      ],
      "metadata": {
        "colab": {
          "base_uri": "https://localhost:8080/"
        },
        "id": "NYdRfkavRJOe",
        "outputId": "1a1aaa5b-0f0e-43eb-988a-202affb975ed"
      },
      "execution_count": 52,
      "outputs": [
        {
          "output_type": "stream",
          "name": "stdout",
          "text": [
            "Overwriting nash_equilibrium.py\n"
          ]
        }
      ]
    },
    {
      "cell_type": "code",
      "source": [
        "evaluate(\n",
        "  \"rps\", #environment to use - no need to change\n",
        "  [\"nash_equilibrium.py\",  \"statistical.py\"], #agents to evaluate\n",
        "  configuration={\"episodeSteps\": 100} #number of episodes \n",
        ")"
      ],
      "metadata": {
        "colab": {
          "base_uri": "https://localhost:8080/"
        },
        "id": "ORhBqI2wRMoj",
        "outputId": "1cee20cb-b543-47ec-b7f6-cea66da71e48"
      },
      "execution_count": 53,
      "outputs": [
        {
          "output_type": "execute_result",
          "data": {
            "text/plain": [
              "[[0, 0]]"
            ]
          },
          "metadata": {},
          "execution_count": 53
        }
      ]
    },
    {
      "cell_type": "markdown",
      "source": [
        "8) Статистический бот"
      ],
      "metadata": {
        "id": "khJfFb5ve7xC"
      }
    },
    {
      "cell_type": "code",
      "source": [
        "%%writefile statistical.py\n",
        "\n",
        "action_histogram = {}\n",
        "\n",
        "\n",
        "def statistical(observation, configuration):\n",
        "  global action_histogram\n",
        "  if observation.step == 0:\n",
        "    action_histogram = {}\n",
        "    return\n",
        "  action = observation.lastOpponentAction\n",
        "  if action not in action_histogram:\n",
        "    action_histogram[action] = 0\n",
        "  action_histogram[action] += 1\n",
        "  mode_action = None\n",
        "  mode_action_count = None\n",
        "  for k, v in action_histogram.items():\n",
        "    if mode_action_count is None or v > mode_action_count:\n",
        "      mode_action = k\n",
        "      mode_action_count = v\n",
        "      continue\n",
        "\n",
        "  return (mode_action + 1) % configuration.signs"
      ],
      "metadata": {
        "id": "pOmC8d6HKkEq",
        "colab": {
          "base_uri": "https://localhost:8080/"
        },
        "outputId": "7c42d511-f88a-4066-f545-3070086b68ee"
      },
      "execution_count": 55,
      "outputs": [
        {
          "output_type": "stream",
          "name": "stdout",
          "text": [
            "Overwriting statistical.py\n"
          ]
        }
      ]
    },
    {
      "cell_type": "code",
      "source": [
        "evaluate(\n",
        "  \"rps\", #environment to use - no need to change\n",
        "  [\"statistical.py\", \"rock_agent.py\"], #agents to evaluate\n",
        "  configuration={\"episodeSteps\": 100} #number of episodes \n",
        ")"
      ],
      "metadata": {
        "colab": {
          "base_uri": "https://localhost:8080/"
        },
        "id": "YzSRthWuetln",
        "outputId": "5f75f5db-83e1-4deb-ba1e-424099a47dc0"
      },
      "execution_count": 56,
      "outputs": [
        {
          "output_type": "execute_result",
          "data": {
            "text/plain": [
              "[[98.0, -98.0]]"
            ]
          },
          "metadata": {},
          "execution_count": 56
        }
      ]
    },
    {
      "cell_type": "markdown",
      "source": [
        "9) Агент Джонсона"
      ],
      "metadata": {
        "id": "BuMC2WD9EDQP"
      }
    },
    {
      "cell_type": "code",
      "source": [
        "%%writefile Johnson_agent.py\n",
        "\n",
        "import numpy as np\n",
        "import collections\n",
        "def Johnson_agent(observation, configuration):\n",
        "  k = 2\n",
        "  global table, action_seq\n",
        "  if observation.step % 25 == 0: # обновляем таблицу каждые 25 шагов. \n",
        "    action_seq, table = [], collections.defaultdict(lambda: [1, 1, 1])\n",
        "  if len(action_seq) <= 2 * k + 1:\n",
        "    action = int(np.random.randint(3))\n",
        "    if observation.step > 0:\n",
        "      action_seq.extend([observation.lastOpponentAction, action])\n",
        "    else:\n",
        "      action_seq.append(action)\n",
        "      return action\n",
        "  # вносим изменения\n",
        "  key = ''.join([str(a) for a in action_seq[:-1]])\n",
        "  table[key][observation.lastOpponentAction] += 1\n",
        "  # вносим изменения последовательности действий\n",
        "  action_seq[:-2] = action_seq[2:]\n",
        "  action_seq[-2] = observation.lastOpponentAction\n",
        "  # предсказание следующего хода опонента\n",
        "  key = ''.join([str(a) for a in action_seq[:-1]])\n",
        "  if observation.step < 50:\n",
        "    next_opponent_action_pred = np.argmax(table[key])\n",
        "  else:\n",
        "    scores = np.array(table[key])\n",
        "    next_opponent_action_pred = np.random.choice(3, p=scores/scores.sum())\n",
        "  # совершаем действия\n",
        "  action = (next_opponent_action_pred + 1) % 3\n",
        "  # меняем стратегию, если высок шанс проигрыша\n",
        "  if observation.step > 90:\n",
        "    action = next_opponent_action_pred\n",
        "  action_seq[-1] = action\n",
        "  return int(action)"
      ],
      "metadata": {
        "colab": {
          "base_uri": "https://localhost:8080/"
        },
        "id": "LP6mVwsnA4NU",
        "outputId": "e66856d1-b7e9-4667-ec56-c08b1324fcd1"
      },
      "execution_count": 57,
      "outputs": [
        {
          "output_type": "stream",
          "name": "stdout",
          "text": [
            "Overwriting Johnson_agent.py\n"
          ]
        }
      ]
    },
    {
      "cell_type": "code",
      "source": [
        "evaluate(\n",
        "  \"rps\", #environment to use - no need to change\n",
        "  [\"Johnson_agent.py\",  \"statistical.py\"], #agents to evaluate\n",
        "  configuration={\"episodeSteps\": 100} #number of episodes\n",
        ")"
      ],
      "metadata": {
        "colab": {
          "base_uri": "https://localhost:8080/"
        },
        "id": "u0Q07aZCBBnQ",
        "outputId": "1d01c2b4-ec91-410d-b318-c622d15554ad"
      },
      "execution_count": 58,
      "outputs": [
        {
          "output_type": "execute_result",
          "data": {
            "text/plain": [
              "[[0, 0]]"
            ]
          },
          "metadata": {},
          "execution_count": 58
        }
      ]
    },
    {
      "cell_type": "markdown",
      "source": [
        "10) Бот, реализующий последовательность \"бумага, камень, ножницы\""
      ],
      "metadata": {
        "id": "JtVTX7_CEfjk"
      }
    },
    {
      "cell_type": "code",
      "source": [
        "%%writefile prs_sequence.py \n",
        "\n",
        "def prs_sequence(observation, configuration):\n",
        "  if observation.step % 3 == 1:\n",
        "    return 0\n",
        "  elif observation.step % 3 == 2:\n",
        "    return 1\n",
        "  else:\n",
        "    return 2 "
      ],
      "metadata": {
        "colab": {
          "base_uri": "https://localhost:8080/"
        },
        "id": "qLB1MojuEM9h",
        "outputId": "b1611fb0-9b65-4a5a-9657-397be70d406d"
      },
      "execution_count": 36,
      "outputs": [
        {
          "output_type": "stream",
          "name": "stdout",
          "text": [
            "Overwriting prs_sequence.py\n"
          ]
        }
      ]
    },
    {
      "cell_type": "code",
      "source": [
        "evaluate(\n",
        "  \"rps\", #environment to use - no need to change\n",
        "  [\"prs_sequence.py\",  \"statistical.py\"], #agents to evaluate\n",
        "  configuration={\"episodeSteps\": 100} #number of episodes\n",
        ")"
      ],
      "metadata": {
        "colab": {
          "base_uri": "https://localhost:8080/"
        },
        "id": "jh0OtVAdGY1w",
        "outputId": "568d254c-ce03-4b38-8aac-6377b61bdfdf"
      },
      "execution_count": 59,
      "outputs": [
        {
          "output_type": "execute_result",
          "data": {
            "text/plain": [
              "[[0, 0]]"
            ]
          },
          "metadata": {},
          "execution_count": 59
        }
      ]
    },
    {
      "cell_type": "markdown",
      "source": [
        "11) Бот на четном шаге выбирает бумагу, на остальных - случайное"
      ],
      "metadata": {
        "id": "csZVtCEbIvZf"
      }
    },
    {
      "cell_type": "code",
      "source": [
        "%%writefile even_step_paper.py\n",
        "import random\n",
        "\n",
        "def even_step_paper(observation, configuration):\n",
        "  # if even step\n",
        "  if not observation.step % 2: \n",
        "    return 1\n",
        "  else:\n",
        "    return random.choice([0, 2])"
      ],
      "metadata": {
        "colab": {
          "base_uri": "https://localhost:8080/"
        },
        "id": "yT-C3envI659",
        "outputId": "6ac0e9e9-72de-4807-8dcf-ec329cfe948f"
      },
      "execution_count": 60,
      "outputs": [
        {
          "output_type": "stream",
          "name": "stdout",
          "text": [
            "Writing even_step_paper.py\n"
          ]
        }
      ]
    },
    {
      "cell_type": "code",
      "source": [
        "evaluate(\n",
        "  \"rps\", #environment to use - no need to change\n",
        "  [\"even_step_paper.py\",  \"statistical.py\"], #agents to evaluate\n",
        "  configuration={\"episodeSteps\": 100} #number of episodes \n",
        ")"
      ],
      "metadata": {
        "colab": {
          "base_uri": "https://localhost:8080/"
        },
        "id": "ekSQtKN7JWGh",
        "outputId": "98befe3f-e318-4f79-e15b-0866157e95e3"
      },
      "execution_count": 61,
      "outputs": [
        {
          "output_type": "execute_result",
          "data": {
            "text/plain": [
              "[[-27.0, 27.0]]"
            ]
          },
          "metadata": {},
          "execution_count": 61
        }
      ]
    },
    {
      "cell_type": "markdown",
      "source": [
        "Воспользуемся функцией evaluate из библиотеки kaggle_environments с помощью которой запустим наших агентов и проведем эксперимент на заданном количестве игр"
      ],
      "metadata": {
        "id": "ExgIpXUVjbjN"
      }
    },
    {
      "cell_type": "code",
      "source": [
        "agents = ['rock_agent',\n",
        "    'paper_agent',\n",
        "    'scissors_agent',\n",
        "    'copy_opponent',\n",
        "    'random_agent',\n",
        "    'hit_the_last_own_action',\n",
        "    'nash_equilibrium',\n",
        "    'statistical',\n",
        "    'Johnson_agent', \n",
        "    'prs_sequence', \n",
        "    'even_step_paper'\n",
        "]\n",
        "\n",
        "agents = [agent_name + \".py\" for agent_name in agents]\n",
        "agents\n"
      ],
      "metadata": {
        "id": "6OoUJrE9a8M0",
        "colab": {
          "base_uri": "https://localhost:8080/"
        },
        "outputId": "f5096350-1a44-4798-8973-620065554a1a"
      },
      "execution_count": 116,
      "outputs": [
        {
          "output_type": "execute_result",
          "data": {
            "text/plain": [
              "['rock_agent.py',\n",
              " 'paper_agent.py',\n",
              " 'scissors_agent.py',\n",
              " 'copy_opponent.py',\n",
              " 'random_agent.py',\n",
              " 'hit_the_last_own_action.py',\n",
              " 'nash_equilibrium.py',\n",
              " 'statistical.py',\n",
              " 'Johnson_agent.py',\n",
              " 'prs_sequence.py',\n",
              " 'even_step_paper.py']"
            ]
          },
          "metadata": {},
          "execution_count": 116
        }
      ]
    },
    {
      "cell_type": "code",
      "source": [
        "scores = []\n",
        "for i in range(len(agents)):\n",
        "  scores.append([0,0,0,0,0,0,0,0,0,0,0])\n",
        "\n",
        "scores"
      ],
      "metadata": {
        "id": "NifNw2_FJDtw",
        "colab": {
          "base_uri": "https://localhost:8080/"
        },
        "outputId": "ccc316d5-ab13-41ef-f34f-fb73f1b43567"
      },
      "execution_count": 119,
      "outputs": [
        {
          "output_type": "execute_result",
          "data": {
            "text/plain": [
              "[[0, 0, 0, 0, 0, 0, 0, 0, 0, 0, 0],\n",
              " [0, 0, 0, 0, 0, 0, 0, 0, 0, 0, 0],\n",
              " [0, 0, 0, 0, 0, 0, 0, 0, 0, 0, 0],\n",
              " [0, 0, 0, 0, 0, 0, 0, 0, 0, 0, 0],\n",
              " [0, 0, 0, 0, 0, 0, 0, 0, 0, 0, 0],\n",
              " [0, 0, 0, 0, 0, 0, 0, 0, 0, 0, 0],\n",
              " [0, 0, 0, 0, 0, 0, 0, 0, 0, 0, 0],\n",
              " [0, 0, 0, 0, 0, 0, 0, 0, 0, 0, 0],\n",
              " [0, 0, 0, 0, 0, 0, 0, 0, 0, 0, 0],\n",
              " [0, 0, 0, 0, 0, 0, 0, 0, 0, 0, 0],\n",
              " [0, 0, 0, 0, 0, 0, 0, 0, 0, 0, 0]]"
            ]
          },
          "metadata": {},
          "execution_count": 119
        }
      ]
    },
    {
      "cell_type": "markdown",
      "source": [
        "Турнир"
      ],
      "metadata": {
        "id": "4TQ6ID9Mcq_F"
      }
    },
    {
      "cell_type": "code",
      "source": [
        "#каждый с каждым\n",
        "\n",
        "for i in range(len(agents)):\n",
        "  for j in range(i+1, len(agents)):\n",
        "      \n",
        "    current_score = evaluate(\n",
        "      \"rps\", \n",
        "      [agents[i], agents[j]], \n",
        "      configuration={\"episodeSteps\": 100, 'tieRewardThreshold': 2}\n",
        "    )\n",
        "        \n",
        "    scores[i][j] = current_score[0][0]\n",
        "    scores[j][i] = current_score[0][1]"
      ],
      "metadata": {
        "id": "BQqB5HqQcsXP"
      },
      "execution_count": 121,
      "outputs": []
    },
    {
      "cell_type": "code",
      "source": [
        "from pprint import pprint\n",
        "pprint(scores)"
      ],
      "metadata": {
        "colab": {
          "base_uri": "https://localhost:8080/"
        },
        "id": "FPOOlkDlaCaI",
        "outputId": "b27f1040-581e-466a-e87e-72c06e6bd5d2"
      },
      "execution_count": 122,
      "outputs": [
        {
          "output_type": "stream",
          "name": "stdout",
          "text": [
            "[[0, -99.0, 99.0, 0, 46.0, 0, -4.0, -98.0, -67.0, 0, -25.0],\n",
            " [99.0, 0, -99.0, 0, -45.0, 0, -3.0, -97.0, -38.0, 0, 0],\n",
            " [-99.0, 99.0, 0, 0, 23.0, 0, -7.0, -99.0, -33.0, 0, 26.0],\n",
            " [0, 0, 0, 0, -5.0, -99.0, -14.0, -22.0, -15.0, -99.0, 0],\n",
            " [-46.0, 45.0, -23.0, 5.0, 0, 14.0, 9.0, -37.0, 27.0, 6.0, 21.0],\n",
            " [0, 0, 0, 99.0, -14.0, 0, 0, 2.0, -30.0, -99.0, 8.0],\n",
            " [4.0, 3.0, 7.0, 14.0, -9.0, 0, 0, -11.0, 11.0, -5.0, 15.0],\n",
            " [98.0, 97.0, 99.0, 22.0, 37.0, -2.0, 11.0, 0, 4.0, 0, 23.0],\n",
            " [67.0, 38.0, 33.0, 15.0, -27.0, 30.0, -11.0, -4.0, 0, 26.0, 9.0],\n",
            " [0, 0, 0, 99.0, -6.0, 99.0, 5.0, 0, -26.0, 0, -7.0],\n",
            " [25.0, 0, -26.0, 0, -21.0, -8.0, -15.0, -23.0, -9.0, 7.0, 0]]\n"
          ]
        }
      ]
    },
    {
      "cell_type": "code",
      "source": [
        "# определяем победителя\n",
        "winner = []\n",
        "for i in range(len(agents)):\n",
        "  count_win = 0\n",
        "  for j in range(len(agents)):\n",
        "    if scores[i][j] > 0:\n",
        "      count_win += 1\n",
        "  winner.append(count_win)\n",
        "   "
      ],
      "metadata": {
        "id": "IW_zs5txJCyr"
      },
      "execution_count": 135,
      "outputs": []
    },
    {
      "cell_type": "code",
      "source": [
        "winner1 = winner.index(max(winner))\n",
        "agents[winner1]"
      ],
      "metadata": {
        "colab": {
          "base_uri": "https://localhost:8080/",
          "height": 35
        },
        "id": "js_IcJauNkYt",
        "outputId": "9fd57b7b-9b64-472d-a4a9-abff1ff2dc16"
      },
      "execution_count": 136,
      "outputs": [
        {
          "output_type": "execute_result",
          "data": {
            "text/plain": [
              "'statistical.py'"
            ],
            "application/vnd.google.colaboratory.intrinsic+json": {
              "type": "string"
            }
          },
          "metadata": {},
          "execution_count": 136
        }
      ]
    },
    {
      "cell_type": "markdown",
      "source": [
        "Наиболее выигрышной является стратегия, основанная на статистике игр"
      ],
      "metadata": {
        "id": "EIjQa8y8jCTA"
      }
    }
  ]
}
